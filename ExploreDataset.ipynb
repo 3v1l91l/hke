{
 "cells": [
  {
   "cell_type": "code",
   "execution_count": 78,
   "metadata": {},
   "outputs": [
    {
     "data": {
      "text/html": [
       "<script>requirejs.config({paths: { 'plotly': ['https://cdn.plot.ly/plotly-latest.min']},});if(!window.Plotly) {{require(['plotly'],function(plotly) {window.Plotly=plotly;});}}</script>"
      ],
      "text/vnd.plotly.v1+html": [
       "<script>requirejs.config({paths: { 'plotly': ['https://cdn.plot.ly/plotly-latest.min']},});if(!window.Plotly) {{require(['plotly'],function(plotly) {window.Plotly=plotly;});}}</script>"
      ]
     },
     "metadata": {},
     "output_type": "display_data"
    }
   ],
   "source": [
    "import numpy as np\n",
    "from plotly.offline import init_notebook_mode, iplot\n",
    "import plotly.figure_factory as ff\n",
    "import plotly.graph_objs as go\n",
    "import pandas as pd\n",
    "init_notebook_mode(connected=True)"
   ]
  },
  {
   "cell_type": "code",
   "execution_count": 82,
   "metadata": {},
   "outputs": [
    {
     "data": {
      "text/html": [
       "<div>\n",
       "<style>\n",
       "    .dataframe thead tr:only-child th {\n",
       "        text-align: right;\n",
       "    }\n",
       "\n",
       "    .dataframe thead th {\n",
       "        text-align: left;\n",
       "    }\n",
       "\n",
       "    .dataframe tbody tr th {\n",
       "        vertical-align: top;\n",
       "    }\n",
       "</style>\n",
       "<table border=\"1\" class=\"dataframe\">\n",
       "  <thead>\n",
       "    <tr style=\"text-align: right;\">\n",
       "      <th></th>\n",
       "      <th>image_id</th>\n",
       "      <th>label</th>\n",
       "    </tr>\n",
       "  </thead>\n",
       "  <tbody>\n",
       "    <tr>\n",
       "      <th>0</th>\n",
       "      <td>train_1a</td>\n",
       "      <td>rice</td>\n",
       "    </tr>\n",
       "    <tr>\n",
       "      <th>1</th>\n",
       "      <td>train_1b</td>\n",
       "      <td>candy</td>\n",
       "    </tr>\n",
       "    <tr>\n",
       "      <th>2</th>\n",
       "      <td>train_1c</td>\n",
       "      <td>jam</td>\n",
       "    </tr>\n",
       "    <tr>\n",
       "      <th>3</th>\n",
       "      <td>train_1d</td>\n",
       "      <td>coffee</td>\n",
       "    </tr>\n",
       "    <tr>\n",
       "      <th>4</th>\n",
       "      <td>train_2a</td>\n",
       "      <td>vinegar</td>\n",
       "    </tr>\n",
       "  </tbody>\n",
       "</table>\n",
       "</div>"
      ],
      "text/plain": [
       "   image_id    label\n",
       "0  train_1a     rice\n",
       "1  train_1b    candy\n",
       "2  train_1c      jam\n",
       "3  train_1d   coffee\n",
       "4  train_2a  vinegar"
      ]
     },
     "execution_count": 82,
     "metadata": {},
     "output_type": "execute_result"
    }
   ],
   "source": [
    "df = pd.read_csv(r'C:\\code\\hke\\train.csv')\n",
    "df[:5]"
   ]
  },
  {
   "cell_type": "code",
   "execution_count": 84,
   "metadata": {},
   "outputs": [
    {
     "data": {
      "application/vnd.plotly.v1+json": {
       "data": [
        {
         "type": "bar",
         "x": [
          "candy",
          "chocolate",
          "juice",
          "coffee",
          "tea",
          "cereal",
          "water",
          "jam",
          "spices",
          "honey",
          "chips",
          "soda",
          "pasta",
          "tomatosauce",
          "nuts",
          "cake",
          "milk",
          "vinegar",
          "rice",
          "oil",
          "beans",
          "sugar",
          "fish",
          "flour",
          "corn"
         ],
         "y": [
          242,
          199,
          196,
          194,
          184,
          181,
          170,
          157,
          135,
          120,
          118,
          115,
          112,
          111,
          109,
          105,
          105,
          102,
          97,
          93,
          88,
          77,
          71,
          71,
          63
         ]
        }
       ],
       "layout": {}
      },
      "text/html": [
       "<div id=\"7040db18-ea45-4565-ba90-fe1fd7ae60ef\" style=\"height: 525px; width: 100%;\" class=\"plotly-graph-div\"></div><script type=\"text/javascript\">require([\"plotly\"], function(Plotly) { window.PLOTLYENV=window.PLOTLYENV || {};window.PLOTLYENV.BASE_URL=\"https://plot.ly\";Plotly.newPlot(\"7040db18-ea45-4565-ba90-fe1fd7ae60ef\", [{\"y\": [242, 199, 196, 194, 184, 181, 170, 157, 135, 120, 118, 115, 112, 111, 109, 105, 105, 102, 97, 93, 88, 77, 71, 71, 63], \"type\": \"bar\", \"x\": [\"candy\", \"chocolate\", \"juice\", \"coffee\", \"tea\", \"cereal\", \"water\", \"jam\", \"spices\", \"honey\", \"chips\", \"soda\", \"pasta\", \"tomatosauce\", \"nuts\", \"cake\", \"milk\", \"vinegar\", \"rice\", \"oil\", \"beans\", \"sugar\", \"fish\", \"flour\", \"corn\"]}], {}, {\"linkText\": \"Export to plot.ly\", \"showLink\": true})});</script>"
      ],
      "text/vnd.plotly.v1+html": [
       "<div id=\"7040db18-ea45-4565-ba90-fe1fd7ae60ef\" style=\"height: 525px; width: 100%;\" class=\"plotly-graph-div\"></div><script type=\"text/javascript\">require([\"plotly\"], function(Plotly) { window.PLOTLYENV=window.PLOTLYENV || {};window.PLOTLYENV.BASE_URL=\"https://plot.ly\";Plotly.newPlot(\"7040db18-ea45-4565-ba90-fe1fd7ae60ef\", [{\"y\": [242, 199, 196, 194, 184, 181, 170, 157, 135, 120, 118, 115, 112, 111, 109, 105, 105, 102, 97, 93, 88, 77, 71, 71, 63], \"type\": \"bar\", \"x\": [\"candy\", \"chocolate\", \"juice\", \"coffee\", \"tea\", \"cereal\", \"water\", \"jam\", \"spices\", \"honey\", \"chips\", \"soda\", \"pasta\", \"tomatosauce\", \"nuts\", \"cake\", \"milk\", \"vinegar\", \"rice\", \"oil\", \"beans\", \"sugar\", \"fish\", \"flour\", \"corn\"]}], {}, {\"linkText\": \"Export to plot.ly\", \"showLink\": true})});</script>"
      ]
     },
     "metadata": {},
     "output_type": "display_data"
    }
   ],
   "source": [
    "counts = df['label'].value_counts()\n",
    "data = [go.Bar(x=counts.index, y=counts.values)]\n",
    "iplot(data, filename='basic-bar')"
   ]
  },
  {
   "cell_type": "code",
   "execution_count": null,
   "metadata": {},
   "outputs": [],
   "source": []
  }
 ],
 "metadata": {
  "kernelspec": {
   "display_name": "Python 3",
   "language": "python",
   "name": "python3"
  },
  "language_info": {
   "codemirror_mode": {
    "name": "ipython",
    "version": 3
   },
   "file_extension": ".py",
   "mimetype": "text/x-python",
   "name": "python",
   "nbconvert_exporter": "python",
   "pygments_lexer": "ipython3",
   "version": "3.5.0"
  }
 },
 "nbformat": 4,
 "nbformat_minor": 2
}
